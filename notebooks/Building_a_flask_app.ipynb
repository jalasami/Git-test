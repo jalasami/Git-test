{
 "cells": [
  {
   "cell_type": "markdown",
   "metadata": {},
   "source": [
    "# Building a web app"
   ]
  },
  {
   "cell_type": "markdown",
   "metadata": {},
   "source": [
    "<html><div style=\"background-color:#ffeeee; border-radius: 8px; border: solid 1px #aa8888; padding: 0.5em 1em 1em 1em;\">\n",
    "            \n",
    "<h3>NOTE</h3>\n",
    "\n",
    "<p>Much of the code in this notebook doesn't work in a Notebook. It needs to reside in a `flask` application. Usually this means putting it in a file called `app.py`, which can be run by typing `flask run` on the command line in the same directory.</p>\n",
    "    \n",
    "</div></html>"
   ]
  },
  {
   "cell_type": "markdown",
   "metadata": {},
   "source": [
    "## 0. Minimal\n",
    "\n",
    "This is the smallest possible flask application. It serves a single string on the root path."
   ]
  },
  {
   "cell_type": "code",
   "execution_count": null,
   "metadata": {},
   "outputs": [],
   "source": [
    "from flask import Flask\n",
    "\n",
    "app = Flask(__name__)\n",
    "\n",
    "@app.route('/')\n",
    "def root():\n",
    "    \"\"\"\n",
    "    Simplest possible. Return a string.\n",
    "    \"\"\"\n",
    "    return \"Hello world!\""
   ]
  },
  {
   "cell_type": "code",
   "execution_count": null,
   "metadata": {},
   "outputs": [],
   "source": []
  },
  {
   "cell_type": "code",
   "execution_count": null,
   "metadata": {},
   "outputs": [],
   "source": []
  },
  {
   "cell_type": "code",
   "execution_count": null,
   "metadata": {},
   "outputs": [],
   "source": []
  },
  {
   "cell_type": "markdown",
   "metadata": {},
   "source": [
    "❗ **IMPORTANT**\n",
    "\n",
    "To run, we must put ourselves in `development` mode:\n",
    "\n",
    "    export FLASK_ENV=development\n",
    "    flask run\n",
    "\n",
    "Or, in Windows CMD:\n",
    "\n",
    "    set FLASK_ENV=development\n",
    "    flask run"
   ]
  },
  {
   "cell_type": "markdown",
   "metadata": {},
   "source": [
    "## 1. Getting an arg\n",
    "\n",
    "We have access to an object called `request`, which contains the data passed to the server when the request was made. For example, the headers passed by the browser (try printing `request.headers`), and query parameters (if any). "
   ]
  },
  {
   "cell_type": "code",
   "execution_count": null,
   "metadata": {},
   "outputs": [],
   "source": [
    "from flask import Flask, request\n",
    "\n",
    "app = Flask(__name__)\n",
    "\n",
    "@app.route('/')\n",
    "def root():\n",
    "    \"\"\"\n",
    "    Get one argument as a string.\n",
    "    \"\"\"\n",
    "    name = request.args.get('name', 'world')\n",
    "    return \"Hello {}!\".format(name)"
   ]
  },
  {
   "cell_type": "markdown",
   "metadata": {},
   "source": [
    "## 2. Calculator"
   ]
  },
  {
   "cell_type": "code",
   "execution_count": null,
   "metadata": {},
   "outputs": [],
   "source": [
    "@app.route('/')\n",
    "def root():\n",
    "    \"\"\"\n",
    "    (2) A simple calculator with GET requests.\n",
    "    \"\"\"\n",
    "    vp = float(request.args.get('vp') or 0)\n",
    "    rho = float(request.args.get('rho') or 0)\n",
    "    return \"Impedance: {}\".format(vp * rho)"
   ]
  },
  {
   "cell_type": "markdown",
   "metadata": {},
   "source": [
    "<html><div style=\"background-color:#eeffee; border-radius: 8px; border: solid 1px #88aa88; padding: 0.5em 1em 1em 1em;\">\n",
    "            \n",
    "<h3>EXERCISE</h3>\n",
    "\n",
    "<p>Add another endpoint to the site to compute <a href=\"https://www.subsurfwiki.org/wiki/Gardner%27s_equation\">Gardner's equation</a>, $\\rho = 310 V_\\mathrm{P}^{0.25}$ (or your favourite equation!).\n",
    "    \n",
    "You will need to add a function to handle GET requests on a new path.</p>\n",
    "    \n",
    "</div></html>"
   ]
  },
  {
   "cell_type": "markdown",
   "metadata": {},
   "source": [
    "### Path parameters\n",
    "\n",
    "As well as passing a query string like `?vp=2400&rho=2500`, which turns into a dictionary `{'vp': '2400', 'rho': '2500'}` (called `request.args`), we can also pass variables in the path itself.\n",
    "\n",
    " This is good for querying databases: path parameters represent entities (tables in your DB, more or less).\n",
    " \n",
    " Here's an example:"
   ]
  },
  {
   "cell_type": "code",
   "execution_count": null,
   "metadata": {},
   "outputs": [],
   "source": [
    "@app.route('/hello/<name>')\n",
    "def hello(name):\n",
    "    return \"Hello {}\".format(name)"
   ]
  },
  {
   "cell_type": "markdown",
   "metadata": {},
   "source": [
    "Here's [one explanation](https://stackoverflow.com/a/31261026/3381305) of why you might do this:\n",
    "\n",
    "> Best practice for RESTful API design is that path params are used to identify a specific resource or resources, while query parameters are used to sort/filter those resources.\n",
    "\n",
    "> Here's an example. Suppose you are implementing RESTful API endpoints for an entity called Car. You would structure your endpoints like this:\n",
    "\n",
    ">     GET /cars\n",
    ">     GET /cars/:id\n",
    ">     POST /cars\n",
    ">     PUT /cars/:id\n",
    ">     DELETE /cars/:id\n",
    "\n",
    "> This way you are only using path parameters when you are specifying which resource to fetch, but this does not sort/filter the resources in any way."
   ]
  },
  {
   "cell_type": "markdown",
   "metadata": {},
   "source": [
    "## 3. Classify image via URL given as query\n",
    "\n",
    "To do this, we need some new functions:\n",
    "\n",
    "- one to process the image as in training.\n",
    "- one to fetch an image from a URL.\n",
    "- one to make a prediction from an image.\n",
    "\n",
    "First, here's the image processing function:"
   ]
  },
  {
   "cell_type": "code",
   "execution_count": null,
   "metadata": {},
   "outputs": [],
   "source": [
    "def img_to_arr(img):\n",
    "    \"\"\"\n",
    "    Apply the same processing we used in training: greyscale and resize.\n",
    "    \"\"\"\n",
    "    img = img.convert(mode='L').resize((32, 32))\n",
    "    return np.asarray(img).ravel() / 255"
   ]
  },
  {
   "cell_type": "markdown",
   "metadata": {},
   "source": [
    "Here's the `fetch_image()` and `predict_from_image()` functions:"
   ]
  },
  {
   "cell_type": "code",
   "execution_count": null,
   "metadata": {},
   "outputs": [],
   "source": [
    "def fetch_image(url):\n",
    "    \"\"\"\n",
    "    Download an image from the web and pass to the image processing function.\n",
    "    \"\"\"\n",
    "    r = requests.get(url)\n",
    "    f = BytesIO(r.content)\n",
    "    return Image.open(f) \n",
    "\n",
    "\n",
    "def predict_from_image(clf, img):\n",
    "    \"\"\"\n",
    "    Classify an image.\n",
    "    \"\"\"\n",
    "    arr = img_to_arr(img)\n",
    "    X = np.atleast_2d(arr)\n",
    "    probs = clf.predict_proba(X)\n",
    "    result = {\n",
    "        'class': clf.classes_[np.argmax(probs)],\n",
    "        'prob': probs.max(),\n",
    "        'classes': clf.classes_.tolist(),\n",
    "        'probs': np.squeeze(probs).tolist(), # Must be serializable.\n",
    "    }\n",
    "    return result"
   ]
  },
  {
   "cell_type": "markdown",
   "metadata": {},
   "source": [
    "Now we can write the prediction function for the app:"
   ]
  },
  {
   "cell_type": "code",
   "execution_count": null,
   "metadata": {},
   "outputs": [],
   "source": [
    "import joblib\n",
    "from flask import Flask, request, jsonify\n",
    "\n",
    "app = Flask(__name__)\n",
    "\n",
    "CLF = joblib.load('../app/data/rf.gz')\n",
    "\n",
    "@app.route('/predict')\n",
    "def predict():\n",
    "    \"\"\"\n",
    "    (3) Make a prediction from a URL given via GET request.\n",
    "    \n",
    "    Using a URL means we can still just accept a string as an arg.\n",
    "\n",
    "    There's still no human interface.\n",
    "    \"\"\"\n",
    "    url = request.args.get('url')\n",
    "    img = utils.fetch_image(url)\n",
    "    result = utils.predict_from_image(CLF, img)\n",
    "\n",
    "    # Deal with not getting a URL.\n",
    "    # if url:\n",
    "    #     img = utils.fetch_image(url)\n",
    "    #     result = utils.predict_from_image(CLF, img)\n",
    "    # else:\n",
    "    #     result = 'Please provide a URL'\n",
    "\n",
    "    return jsonify(result)"
   ]
  },
  {
   "cell_type": "markdown",
   "metadata": {},
   "source": [
    "## 4. Provide URL via a GET form"
   ]
  },
  {
   "cell_type": "markdown",
   "metadata": {},
   "source": [
    "First we'll just show a 'Hello world' page. The `simple_page.html` file can contain any HTML:"
   ]
  },
  {
   "cell_type": "code",
   "execution_count": null,
   "metadata": {},
   "outputs": [],
   "source": [
    "from flask import render_template\n",
    "\n",
    "@app.route('/simple')\n",
    "def simple():\n",
    "    \"\"\"\n",
    "    (4a) Render a template.\n",
    "    \"\"\"\n",
    "    return render_template('simple_page.html')"
   ]
  },
  {
   "cell_type": "markdown",
   "metadata": {},
   "source": [
    "It's tempting to defer all design etc until later, but I strongly recommend using some styling from the start so you can evolve it alongside the content. There are a couple of 'off the shelf' styles I use:\n",
    "\n",
    "- [Bootstrap](https://getbootstrap.com/), the gold standard, originally from Twitter. Downside: looks like every other website in the universe.\n",
    "- [new.css](https://newcss.net/), arguably the simplest possible HTML framework and the one I'm using here.\n",
    "\n",
    "There are loads of others, eg [Skeleton](http://getskeleton.com/) and [Foundation](https://get.foundation/). Find more by Googling something like _responsive HTML5 frameworks_."
   ]
  },
  {
   "cell_type": "markdown",
   "metadata": {},
   "source": [
    "Now we can add a form:"
   ]
  },
  {
   "cell_type": "code",
   "execution_count": null,
   "metadata": {},
   "outputs": [],
   "source": [
    "@app.route('/form', methods=['GET'])\n",
    "def form():\n",
    "    \"\"\"\n",
    "    (4b) Make a prediction from a URL given via a GET form.\n",
    "    \"\"\"\n",
    "    url = request.args.get('url')\n",
    "    if url:\n",
    "        img = utils.fetch_image(url)\n",
    "        result = utils.predict_from_image(CLF, img)\n",
    "        result['url'] = url  # If we add this back, we can display it.\n",
    "    else:\n",
    "        result = {}\n",
    "\n",
    "    return render_template('form.html', result=result)"
   ]
  },
  {
   "cell_type": "markdown",
   "metadata": {},
   "source": [
    "The key part of the form HTML document, `form.html`, looks like this:\n",
    "\n",
    "    <form action=\"/form\" method=\"get\">\n",
    "        <input type=\"url\" name=\"url\" placeholder=\"Paste a URL\" required=\"required\" size=64 />\n",
    "        <button type=\"submit\">Predict</button>\n",
    "    </form>\n",
    "    \n",
    "Then we have a bit of Jinja2 'code' in the page to show items from a `result` dictionary, if that dictionary contains any items:\n",
    "\n",
    "    {% if result %}\n",
    "\n",
    "        <p>{{ result['class'] }}: {{ \"%.3f\"|format(result['prob']) }}</p>\n",
    "\n",
    "    {% endif %}\n",
    "    \n",
    "That's it!"
   ]
  },
  {
   "cell_type": "markdown",
   "metadata": {},
   "source": [
    "<html><div style=\"background-color:#eeffee; border-radius: 8px; border: solid 1px #88aa88; padding: 0.5em 1em 1em 1em;\">\n",
    "            \n",
    "<h3>EXERCISE</h3>\n",
    "\n",
    "<p>Add an <strong>About</strong> page to the site. You will need to add a template (an HTML file), and a function to handle GET requests on the <code>/about</code> path.</p>\n",
    "    \n",
    "</div></html>"
   ]
  },
  {
   "cell_type": "markdown",
   "metadata": {},
   "source": [
    "## GET vs POST\n",
    "\n",
    "In a nutshell, `GET` is awesome because the data is passed in the URL. This means we can share the result of a query (say) just by sharing the URL with someone. But the URL is not secure, e.g. it's recorded in the server's logs, and it limits both the size and type of data we can pass to the server.\n",
    "\n",
    "If we want to pass a lot of data, or structured data (e.g. a nested dictionary), or a bunch of non-text bytes, or we want to pass secure data, we'll need to use the `POST` method instead.\n",
    "\n",
    "Our handlers may stil want to handle `GET` requests, since that's how a browser is going to ask for a resource."
   ]
  },
  {
   "cell_type": "markdown",
   "metadata": {},
   "source": [
    "We could convert the GET form to a post form simply by changing the `method` (and handling that on the back-end):\n",
    "\n",
    "    <form action=\"/form\" method=\"post\">\n",
    "        <input type=\"url\" name=\"url\" placeholder=\"Paste a URL\" required=\"required\" size=64 />\n",
    "        <button type=\"submit\">Predict</button>\n",
    "    </form>"
   ]
  },
  {
   "cell_type": "markdown",
   "metadata": {},
   "source": [
    "## 5. Upload image via a POST form"
   ]
  },
  {
   "cell_type": "code",
   "execution_count": null,
   "metadata": {},
   "outputs": [],
   "source": [
    "@app.route('/upload', methods=['GET', 'POST'])\n",
    "def upload():\n",
    "    \"\"\"\n",
    "    (5) Make a prediction from an image uploaded via a POST form.\n",
    "\n",
    "    Bonus: on a mobile device, there will automatically be an option to\n",
    "    capture via the camera.\n",
    "    \"\"\"\n",
    "    if request.method == 'POST':\n",
    "        data = request.files['image'].read()\n",
    "        img = Image.open(BytesIO(data))\n",
    "        result = utils.predict_from_image(CLF, img)\n",
    "        # result['image'] = base64.b64encode(data).decode('utf-8')\n",
    "    else:\n",
    "        result = {}\n",
    "\n",
    "    return render_template('upload.html', result=result)"
   ]
  },
  {
   "cell_type": "markdown",
   "metadata": {},
   "source": [
    "The HTML for the form is like this:\n",
    "\n",
    "    <form action=\"/upload\" method=\"POST\" enctype=\"multipart/form-data\">\n",
    "        <input type=\"file\" accept=\"image/*\" name=\"image\" required=\"required\" />\n",
    "        <button type=\"submit\" name=\"action\">Upload</button>\n",
    "    </form>\n",
    "\n",
    "The `enctype` parameter is needed for sending more complex data types such as binary files. The default is `enctype=\"multipart/form-data\"` ([more about this](https://www.w3schools.com/tags/att_form_enctype.asp))."
   ]
  },
  {
   "cell_type": "markdown",
   "metadata": {},
   "source": [
    "### Displaying the image\n",
    "\n",
    "We can send the image back to the front-end by adding a base64-encoded string to the `result` dictionary (uncomment the line in the handler function above). Then we can display the image with some HTML:\n",
    "\n",
    "    <img src=\"data:image/png;base64,{{ result['image'] }}\" />\n",
    "    \n",
    "`base64` is an encoding similar to binary, octal and hexadecimal, but with 64 symbols instead of 2, 8 and 16 respectively. Each symbol therefore represents 6 bits of data (2<sup>6</sup> = 64), so you can pack 3 bytes into 4 symbols. [Read more about base64 encoding.](https://en.wikipedia.org/wiki/Base64)"
   ]
  },
  {
   "cell_type": "markdown",
   "metadata": {},
   "source": [
    "## 6. Sending a plot back to the user\n",
    "\n",
    "In a simple app, I usually try to reduce complexity as much as possible. So it's useful to know how to store a `matplotlib` plot in memory, by tricking it into thinking we're saving a file, then sending those bytes to the front-end.\n",
    "\n",
    "Here's the code to save the `matplotlib` plot:"
   ]
  },
  {
   "cell_type": "code",
   "execution_count": null,
   "metadata": {},
   "outputs": [],
   "source": [
    "import matplotlib.pyplot as plt\n",
    "from io import BytesIO\n",
    "import base64\n",
    "\n",
    "fig, ax = plt.subplots()\n",
    "ax.plot([0, 1, 2, 3, 4, 5])\n",
    "\n",
    "# Put in memory.\n",
    "handle = BytesIO()\n",
    "plt.savefig(handle, format='png', facecolor=fig.get_facecolor())\n",
    "plt.close()\n",
    "\n",
    "# Encode.\n",
    "handle.seek(0)\n",
    "image_string = base64.b64encode(handle.getvalue()).decode('utf8')"
   ]
  },
  {
   "cell_type": "markdown",
   "metadata": {},
   "source": [
    "Now we add one line to the handler:"
   ]
  },
  {
   "cell_type": "code",
   "execution_count": null,
   "metadata": {},
   "outputs": [],
   "source": [
    "result['plot'] = utils.plot(result['probs'], CLF.classes_)"
   ]
  },
  {
   "cell_type": "markdown",
   "metadata": {},
   "source": [
    "## 7. A web API for POST requests\n",
    "\n",
    "Instead of passing data via a form, programmers would often like to pass data to a server programmatically. To handle requests like this, we can write a special endpoint.\n",
    "\n",
    "We'll always want to return JSON from an endpoint like this, so we don't need templates or any HTML:"
   ]
  },
  {
   "cell_type": "code",
   "execution_count": null,
   "metadata": {},
   "outputs": [],
   "source": [
    "@app.route('/post', methods=['POST'])\n",
    "def post():\n",
    "    \"\"\"\n",
    "    (7) Make a prediction from a URL provided via POST request.\n",
    "    \"\"\"\n",
    "    url = request.json.get('url')\n",
    "    img = utils.fetch_image(url)\n",
    "    result = utils.predict_from_image(CLF, img)\n",
    "    return jsonify(result)"
   ]
  },
  {
   "cell_type": "markdown",
   "metadata": {},
   "source": [
    "## 8. A web API handling images or URLs\n",
    "\n",
    "If accessing the web API from code, you may not have a URL to pass to the service, and there is no form for doing a file upload. So we need a way to pass the image as data. There are lots of ways to do this; one way is to encode as base64."
   ]
  },
  {
   "cell_type": "code",
   "execution_count": null,
   "metadata": {},
   "outputs": [],
   "source": [
    "@app.route('/api/v0.1', methods=['POST'])\n",
    "def api():\n",
    "    \"\"\"\n",
    "    (8) Extend example (7) to make a prediction from a URL or a\n",
    "    base64-encoded image via POST request. \n",
    "    \"\"\"\n",
    "    data = request.json.get('image')\n",
    "    if data.startswith('http'):\n",
    "        img = utils.fetch_image(url)\n",
    "    else:\n",
    "        img = Image.open(BytesIO(base64.b64decode(data)))\n",
    "    result = utils.predict_from_image(CLF, img)\n",
    "    return jsonify(result)"
   ]
  },
  {
   "cell_type": "markdown",
   "metadata": {},
   "source": [
    "Check out [Hitting_our_web_API.ipynb](./Hitting_our_web_API.ipynb) to see how to use this API."
   ]
  },
  {
   "cell_type": "code",
   "execution_count": null,
   "metadata": {},
   "outputs": [],
   "source": []
  }
 ],
 "metadata": {
  "kernelspec": {
   "display_name": "Python 3",
   "language": "python",
   "name": "python3"
  },
  "language_info": {
   "codemirror_mode": {
    "name": "ipython",
    "version": 3
   },
   "file_extension": ".py",
   "mimetype": "text/x-python",
   "name": "python",
   "nbconvert_exporter": "python",
   "pygments_lexer": "ipython3",
   "version": "3.7.8"
  }
 },
 "nbformat": 4,
 "nbformat_minor": 2
}
